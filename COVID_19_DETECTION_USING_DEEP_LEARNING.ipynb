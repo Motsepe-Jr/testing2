{
  "nbformat": 4,
  "nbformat_minor": 0,
  "metadata": {
    "accelerator": "GPU",
    "colab": {
      "name": "COVID_19_DETECTION_USING_DEEP_LEARNING.ipynb",
      "provenance": [],
      "authorship_tag": "ABX9TyNDrP1uiJuAkvrI5p1eI9+C",
      "include_colab_link": true
    },
    "kernelspec": {
      "display_name": "Python 3",
      "name": "python3"
    },
    "language_info": {
      "name": "python"
    }
  },
  "cells": [
    {
      "cell_type": "markdown",
      "metadata": {
        "id": "view-in-github",
        "colab_type": "text"
      },
      "source": [
        "<a href=\"https://colab.research.google.com/github/Motsepe-Jr/testing2/blob/master/COVID_19_DETECTION_USING_DEEP_LEARNING.ipynb\" target=\"_parent\"><img src=\"https://colab.research.google.com/assets/colab-badge.svg\" alt=\"Open In Colab\"/></a>"
      ]
    },
    {
      "cell_type": "code",
      "metadata": {
        "colab": {
          "base_uri": "https://localhost:8080/"
        },
        "id": "Rt2txUJ8DWT9",
        "outputId": "29ab6b8a-be3c-47f9-b8c5-73f597cdb990"
      },
      "source": [
        "!apt install unzip"
      ],
      "execution_count": 4,
      "outputs": [
        {
          "output_type": "stream",
          "text": [
            "Reading package lists... Done\n",
            "Building dependency tree       \n",
            "Reading state information... Done\n",
            "unzip is already the newest version (6.0-21ubuntu1.1).\n",
            "The following package was automatically installed and is no longer required:\n",
            "  libnvidia-common-460\n",
            "Use 'apt autoremove' to remove it.\n",
            "0 upgraded, 0 newly installed, 0 to remove and 34 not upgraded.\n"
          ],
          "name": "stdout"
        }
      ]
    },
    {
      "cell_type": "code",
      "metadata": {
        "colab": {
          "base_uri": "https://localhost:8080/"
        },
        "id": "zSJwY8uJ6rm0",
        "outputId": "319b0945-29be-455d-f963-d77155af518c"
      },
      "source": [
        "!unzip archive.zip -d /content"
      ],
      "execution_count": 5,
      "outputs": [
        {
          "output_type": "stream",
          "text": [
            "Archive:  archive.zip\n",
            "  inflating: /content/xray_dataset_covid19/test/NORMAL/NORMAL2-IM-0035-0001.jpeg  \n",
            "  inflating: /content/xray_dataset_covid19/test/NORMAL/NORMAL2-IM-0052-0001.jpeg  \n",
            "  inflating: /content/xray_dataset_covid19/test/NORMAL/NORMAL2-IM-0058-0001.jpeg  \n",
            "  inflating: /content/xray_dataset_covid19/test/NORMAL/NORMAL2-IM-0059-0001.jpeg  \n",
            "  inflating: /content/xray_dataset_covid19/test/NORMAL/NORMAL2-IM-0072-0001.jpeg  \n",
            "  inflating: /content/xray_dataset_covid19/test/NORMAL/NORMAL2-IM-0073-0001.jpeg  \n",
            "  inflating: /content/xray_dataset_covid19/test/NORMAL/NORMAL2-IM-0092-0001.jpeg  \n",
            "  inflating: /content/xray_dataset_covid19/test/NORMAL/NORMAL2-IM-0105-0001.jpeg  \n",
            "  inflating: /content/xray_dataset_covid19/test/NORMAL/NORMAL2-IM-0110-0001.jpeg  \n",
            "  inflating: /content/xray_dataset_covid19/test/NORMAL/NORMAL2-IM-0111-0001.jpeg  \n",
            "  inflating: /content/xray_dataset_covid19/test/NORMAL/NORMAL2-IM-0112-0001.jpeg  \n",
            "  inflating: /content/xray_dataset_covid19/test/NORMAL/NORMAL2-IM-0117-0001.jpeg  \n",
            "  inflating: /content/xray_dataset_covid19/test/NORMAL/NORMAL2-IM-0120-0001.jpeg  \n",
            "  inflating: /content/xray_dataset_covid19/test/NORMAL/NORMAL2-IM-0123-0001.jpeg  \n",
            "  inflating: /content/xray_dataset_covid19/test/NORMAL/NORMAL2-IM-0130-0001.jpeg  \n",
            "  inflating: /content/xray_dataset_covid19/test/NORMAL/NORMAL2-IM-0131-0001.jpeg  \n",
            "  inflating: /content/xray_dataset_covid19/test/NORMAL/NORMAL2-IM-0132-0001.jpeg  \n",
            "  inflating: /content/xray_dataset_covid19/test/NORMAL/NORMAL2-IM-0139-0001.jpeg  \n",
            "  inflating: /content/xray_dataset_covid19/test/NORMAL/NORMAL2-IM-0145-0001.jpeg  \n",
            "  inflating: /content/xray_dataset_covid19/test/NORMAL/NORMAL2-IM-0171-0001.jpeg  \n",
            "  inflating: /content/xray_dataset_covid19/test/PNEUMONIA/SARS-10.1148rg.242035193-g04mr34g0-Fig8a-day0.jpeg  \n",
            "  inflating: /content/xray_dataset_covid19/test/PNEUMONIA/SARS-10.1148rg.242035193-g04mr34g0-Fig8b-day5.jpeg  \n",
            "  inflating: /content/xray_dataset_covid19/test/PNEUMONIA/SARS-10.1148rg.242035193-g04mr34g0-Fig8c-day10.jpeg  \n",
            "  inflating: /content/xray_dataset_covid19/test/PNEUMONIA/SARS-10.1148rg.242035193-g04mr34g04a-Fig4a-day7.jpeg  \n",
            "  inflating: /content/xray_dataset_covid19/test/PNEUMONIA/SARS-10.1148rg.242035193-g04mr34g04b-Fig4b-day12.jpeg  \n",
            "  inflating: /content/xray_dataset_covid19/test/PNEUMONIA/SARS-10.1148rg.242035193-g04mr34g05x-Fig5-day9.jpeg  \n",
            "  inflating: /content/xray_dataset_covid19/test/PNEUMONIA/SARS-10.1148rg.242035193-g04mr34g07a-Fig7a-day5.jpeg  \n",
            "  inflating: /content/xray_dataset_covid19/test/PNEUMONIA/SARS-10.1148rg.242035193-g04mr34g07b-Fig7b-day12.jpeg  \n",
            "  inflating: /content/xray_dataset_covid19/test/PNEUMONIA/SARS-10.1148rg.242035193-g04mr34g09a-Fig9a-day17.jpeg  \n",
            "  inflating: /content/xray_dataset_covid19/test/PNEUMONIA/SARS-10.1148rg.242035193-g04mr34g09b-Fig9b-day19.jpeg  \n",
            "  inflating: /content/xray_dataset_covid19/test/PNEUMONIA/SARS-10.1148rg.242035193-g04mr34g09c-Fig9c-day27.jpeg  \n",
            "  inflating: /content/xray_dataset_covid19/test/PNEUMONIA/ryct.2020200034.fig2.jpeg  \n",
            "  inflating: /content/xray_dataset_covid19/test/PNEUMONIA/ryct.2020200034.fig5-day0.jpeg  \n",
            "  inflating: /content/xray_dataset_covid19/test/PNEUMONIA/ryct.2020200034.fig5-day4.jpeg  \n",
            "  inflating: /content/xray_dataset_covid19/test/PNEUMONIA/ryct.2020200034.fig5-day7.jpeg  \n",
            "  inflating: /content/xray_dataset_covid19/test/PNEUMONIA/streptococcus-pneumoniae-pneumonia-1.jpg  \n",
            "  inflating: /content/xray_dataset_covid19/test/PNEUMONIA/streptococcus-pneumoniae-pneumonia-temporal-evolution-1-day0.jpg  \n",
            "  inflating: /content/xray_dataset_covid19/test/PNEUMONIA/streptococcus-pneumoniae-pneumonia-temporal-evolution-1-day1.jpg  \n",
            "  inflating: /content/xray_dataset_covid19/test/PNEUMONIA/streptococcus-pneumoniae-pneumonia-temporal-evolution-1-day2.jpg  \n",
            "  inflating: /content/xray_dataset_covid19/test/PNEUMONIA/streptococcus-pneumoniae-pneumonia-temporal-evolution-1-day3.jpg  \n",
            "  inflating: /content/xray_dataset_covid19/train/NORMAL/IM-0001-0001.jpeg  \n",
            "  inflating: /content/xray_dataset_covid19/train/NORMAL/IM-0003-0001.jpeg  \n",
            "  inflating: /content/xray_dataset_covid19/train/NORMAL/IM-0005-0001.jpeg  \n",
            "  inflating: /content/xray_dataset_covid19/train/NORMAL/IM-0006-0001.jpeg  \n",
            "  inflating: /content/xray_dataset_covid19/train/NORMAL/IM-0007-0001.jpeg  \n",
            "  inflating: /content/xray_dataset_covid19/train/NORMAL/IM-0009-0001.jpeg  \n",
            "  inflating: /content/xray_dataset_covid19/train/NORMAL/IM-0010-0001.jpeg  \n",
            "  inflating: /content/xray_dataset_covid19/train/NORMAL/IM-0011-0001-0001.jpeg  \n",
            "  inflating: /content/xray_dataset_covid19/train/NORMAL/IM-0011-0001-0002.jpeg  \n",
            "  inflating: /content/xray_dataset_covid19/train/NORMAL/IM-0011-0001.jpeg  \n",
            "  inflating: /content/xray_dataset_covid19/train/NORMAL/IM-0013-0001.jpeg  \n",
            "  inflating: /content/xray_dataset_covid19/train/NORMAL/IM-0015-0001.jpeg  \n",
            "  inflating: /content/xray_dataset_covid19/train/NORMAL/IM-0016-0001.jpeg  \n",
            "  inflating: /content/xray_dataset_covid19/train/NORMAL/IM-0017-0001.jpeg  \n",
            "  inflating: /content/xray_dataset_covid19/train/NORMAL/IM-0019-0001.jpeg  \n",
            "  inflating: /content/xray_dataset_covid19/train/NORMAL/IM-0021-0001.jpeg  \n",
            "  inflating: /content/xray_dataset_covid19/train/NORMAL/IM-0022-0001.jpeg  \n",
            "  inflating: /content/xray_dataset_covid19/train/NORMAL/IM-0023-0001.jpeg  \n",
            "  inflating: /content/xray_dataset_covid19/train/NORMAL/IM-0025-0001.jpeg  \n",
            "  inflating: /content/xray_dataset_covid19/train/NORMAL/IM-0027-0001.jpeg  \n",
            "  inflating: /content/xray_dataset_covid19/train/NORMAL/IM-0029-0001.jpeg  \n",
            "  inflating: /content/xray_dataset_covid19/train/NORMAL/IM-0030-0001.jpeg  \n",
            "  inflating: /content/xray_dataset_covid19/train/NORMAL/IM-0031-0001.jpeg  \n",
            "  inflating: /content/xray_dataset_covid19/train/NORMAL/IM-0033-0001-0001.jpeg  \n",
            "  inflating: /content/xray_dataset_covid19/train/NORMAL/IM-0033-0001-0002.jpeg  \n",
            "  inflating: /content/xray_dataset_covid19/train/NORMAL/IM-0033-0001.jpeg  \n",
            "  inflating: /content/xray_dataset_covid19/train/NORMAL/IM-0035-0001.jpeg  \n",
            "  inflating: /content/xray_dataset_covid19/train/NORMAL/IM-0036-0001.jpeg  \n",
            "  inflating: /content/xray_dataset_covid19/train/NORMAL/IM-0037-0001.jpeg  \n",
            "  inflating: /content/xray_dataset_covid19/train/NORMAL/IM-0039-0001.jpeg  \n",
            "  inflating: /content/xray_dataset_covid19/train/NORMAL/IM-0041-0001.jpeg  \n",
            "  inflating: /content/xray_dataset_covid19/train/NORMAL/IM-0043-0001.jpeg  \n",
            "  inflating: /content/xray_dataset_covid19/train/NORMAL/IM-0045-0001.jpeg  \n",
            "  inflating: /content/xray_dataset_covid19/train/NORMAL/IM-0046-0001.jpeg  \n",
            "  inflating: /content/xray_dataset_covid19/train/NORMAL/IM-0049-0001.jpeg  \n",
            "  inflating: /content/xray_dataset_covid19/train/NORMAL/IM-0050-0001.jpeg  \n",
            "  inflating: /content/xray_dataset_covid19/train/NORMAL/IM-0059-0001.jpeg  \n",
            "  inflating: /content/xray_dataset_covid19/train/NORMAL/IM-0061-0001.jpeg  \n",
            "  inflating: /content/xray_dataset_covid19/train/NORMAL/IM-0063-0001.jpeg  \n",
            "  inflating: /content/xray_dataset_covid19/train/NORMAL/IM-0069-0001.jpeg  \n",
            "  inflating: /content/xray_dataset_covid19/train/NORMAL/IM-0070-0001.jpeg  \n",
            "  inflating: /content/xray_dataset_covid19/train/NORMAL/IM-0071-0001.jpeg  \n",
            "  inflating: /content/xray_dataset_covid19/train/NORMAL/IM-0073-0001.jpeg  \n",
            "  inflating: /content/xray_dataset_covid19/train/NORMAL/IM-0075-0001.jpeg  \n",
            "  inflating: /content/xray_dataset_covid19/train/NORMAL/IM-0077-0001.jpeg  \n",
            "  inflating: /content/xray_dataset_covid19/train/NORMAL/IM-0079-0001.jpeg  \n",
            "  inflating: /content/xray_dataset_covid19/train/NORMAL/IM-0081-0001.jpeg  \n",
            "  inflating: /content/xray_dataset_covid19/train/NORMAL/IM-0083-0001.jpeg  \n",
            "  inflating: /content/xray_dataset_covid19/train/NORMAL/IM-0084-0001.jpeg  \n",
            "  inflating: /content/xray_dataset_covid19/train/NORMAL/IM-0085-0001.jpeg  \n",
            "  inflating: /content/xray_dataset_covid19/train/NORMAL/IM-0086-0001.jpeg  \n",
            "  inflating: /content/xray_dataset_covid19/train/NORMAL/IM-0087-0001.jpeg  \n",
            "  inflating: /content/xray_dataset_covid19/train/NORMAL/IM-0089-0001.jpeg  \n",
            "  inflating: /content/xray_dataset_covid19/train/NORMAL/IM-0091-0001.jpeg  \n",
            "  inflating: /content/xray_dataset_covid19/train/NORMAL/IM-0093-0001.jpeg  \n",
            "  inflating: /content/xray_dataset_covid19/train/NORMAL/IM-0095-0001.jpeg  \n",
            "  inflating: /content/xray_dataset_covid19/train/NORMAL/IM-0097-0001.jpeg  \n",
            "  inflating: /content/xray_dataset_covid19/train/NORMAL/IM-0099-0001.jpeg  \n",
            "  inflating: /content/xray_dataset_covid19/train/NORMAL/IM-0101-0001.jpeg  \n",
            "  inflating: /content/xray_dataset_covid19/train/NORMAL/IM-0102-0001.jpeg  \n",
            "  inflating: /content/xray_dataset_covid19/train/NORMAL/IM-0103-0001.jpeg  \n",
            "  inflating: /content/xray_dataset_covid19/train/NORMAL/IM-0105-0001.jpeg  \n",
            "  inflating: /content/xray_dataset_covid19/train/NORMAL/IM-0107-0001.jpeg  \n",
            "  inflating: /content/xray_dataset_covid19/train/NORMAL/IM-0110-0001.jpeg  \n",
            "  inflating: /content/xray_dataset_covid19/train/NORMAL/IM-0111-0001.jpeg  \n",
            "  inflating: /content/xray_dataset_covid19/train/NORMAL/NORMAL2-IM-0007-0001.jpeg  \n",
            "  inflating: /content/xray_dataset_covid19/train/NORMAL/NORMAL2-IM-0012-0001.jpeg  \n",
            "  inflating: /content/xray_dataset_covid19/train/NORMAL/NORMAL2-IM-0013-0001.jpeg  \n",
            "  inflating: /content/xray_dataset_covid19/train/NORMAL/NORMAL2-IM-0023-0001.jpeg  \n",
            "  inflating: /content/xray_dataset_covid19/train/NORMAL/NORMAL2-IM-0027-0001.jpeg  \n",
            "  inflating: /content/xray_dataset_covid19/train/NORMAL/NORMAL2-IM-0028-0001.jpeg  \n",
            "  inflating: /content/xray_dataset_covid19/train/NORMAL/NORMAL2-IM-0029-0001.jpeg  \n",
            "  inflating: /content/xray_dataset_covid19/train/NORMAL/NORMAL2-IM-0030-0001.jpeg  \n",
            "  inflating: /content/xray_dataset_covid19/train/NORMAL/NORMAL2-IM-0033-0001.jpeg  \n",
            "  inflating: /content/xray_dataset_covid19/train/PNEUMONIA/01E392EE-69F9-4E33-BFCE-E5C968654078.jpeg  \n",
            "  inflating: /content/xray_dataset_covid19/train/PNEUMONIA/1-s2.0-S0140673620303706-fx1_lrg.jpg  \n",
            "  inflating: /content/xray_dataset_covid19/train/PNEUMONIA/1-s2.0-S1684118220300608-main.pdf-001.jpg  \n",
            "  inflating: /content/xray_dataset_covid19/train/PNEUMONIA/1-s2.0-S1684118220300608-main.pdf-002.jpg  \n",
            "  inflating: /content/xray_dataset_covid19/train/PNEUMONIA/1-s2.0-S1684118220300682-main.pdf-002-a1.png  \n",
            "  inflating: /content/xray_dataset_covid19/train/PNEUMONIA/1-s2.0-S1684118220300682-main.pdf-002-a2.png  \n",
            "  inflating: /content/xray_dataset_covid19/train/PNEUMONIA/1-s2.0-S1684118220300682-main.pdf-003-b1.png  \n",
            "  inflating: /content/xray_dataset_covid19/train/PNEUMONIA/1-s2.0-S1684118220300682-main.pdf-003-b2.png  \n",
            "  inflating: /content/xray_dataset_covid19/train/PNEUMONIA/1312A392-67A3-4EBF-9319-810CF6DA5EF6.jpeg  \n",
            "  inflating: /content/xray_dataset_covid19/train/PNEUMONIA/171CB377-62FF-4B76-906C-F3787A01CB2E.jpeg  \n",
            "  inflating: /content/xray_dataset_covid19/train/PNEUMONIA/1B734A89-A1BF-49A8-A1D3-66FAFA4FAC5D.jpeg  \n",
            "  inflating: /content/xray_dataset_covid19/train/PNEUMONIA/23E99E2E-447C-46E5-8EB2-D35D12473C39.png  \n",
            "  inflating: /content/xray_dataset_covid19/train/PNEUMONIA/2C10A413-AABE-4807-8CCE-6A2025594067.jpeg  \n",
            "  inflating: /content/xray_dataset_covid19/train/PNEUMONIA/2C26F453-AF3B-4517-BB9E-802CF2179543.jpeg  \n",
            "  inflating: /content/xray_dataset_covid19/train/PNEUMONIA/31BA3780-2323-493F-8AED-62081B9C383B.jpeg  \n",
            "  inflating: /content/xray_dataset_covid19/train/PNEUMONIA/39EE8E69-5801-48DE-B6E3-BE7D1BCF3092.jpeg  \n",
            "  inflating: /content/xray_dataset_covid19/train/PNEUMONIA/41591_2020_819_Fig1_HTML.webp-day10.png  \n",
            "  inflating: /content/xray_dataset_covid19/train/PNEUMONIA/41591_2020_819_Fig1_HTML.webp-day5.png  \n",
            "  inflating: /content/xray_dataset_covid19/train/PNEUMONIA/446B2CB6-B572-40AB-B01F-1910CA07086A.jpeg  \n",
            "  inflating: /content/xray_dataset_covid19/train/PNEUMONIA/5931B64A-7B97-485D-BE60-3F1EA76BC4F0.jpeg  \n",
            "  inflating: /content/xray_dataset_covid19/train/PNEUMONIA/5CBC2E94-D358-401E-8928-965CCD965C5C.jpeg  \n",
            "  inflating: /content/xray_dataset_covid19/train/PNEUMONIA/5e6dd879fde9502400e58b2f.jpeg  \n",
            "  inflating: /content/xray_dataset_covid19/train/PNEUMONIA/6CB4EFC6-68FA-4CD5-940C-BEFA8DAFE9A7.jpeg  \n",
            "  inflating: /content/xray_dataset_covid19/train/PNEUMONIA/7AF6C1AF-D249-4BD2-8C26-449304105D03.jpeg  \n",
            "  inflating: /content/xray_dataset_covid19/train/PNEUMONIA/7C69C012-7479-493F-8722-ABC29C60A2DD.jpeg  \n",
            "  inflating: /content/xray_dataset_covid19/train/PNEUMONIA/7D2CF6CE-F529-4470-8356-D33FFAF98600.jpeg  \n",
            "  inflating: /content/xray_dataset_covid19/train/PNEUMONIA/7E335538-2F86-424E-A0AB-6397783A38D0.jpeg  \n",
            "  inflating: /content/xray_dataset_covid19/train/PNEUMONIA/7EF28E12-F628-4BEC-A8C5-E6277C2E4F60.png  \n",
            "  inflating: /content/xray_dataset_covid19/train/PNEUMONIA/80446565-E090-4187-A031-9D3CEAA586C8.jpeg  \n",
            "  inflating: /content/xray_dataset_covid19/train/PNEUMONIA/85E52EB3-56E9-4D67-82DA-DEA247C82886.jpeg  \n",
            "  inflating: /content/xray_dataset_covid19/train/PNEUMONIA/8FDE8DBA-CFBD-4B4C-B1A4-6F36A93B7E87.jpeg  \n",
            "  inflating: /content/xray_dataset_covid19/train/PNEUMONIA/93FE0BB1-022D-4F24-9727-987A07975FFB.jpeg  \n",
            "  inflating: /content/xray_dataset_covid19/train/PNEUMONIA/9C34AF49-E589-44D5-92D3-168B3B04E4A6.jpeg  \n",
            "  inflating: /content/xray_dataset_covid19/train/PNEUMONIA/ARDSSevere.png  \n",
            "  inflating: /content/xray_dataset_covid19/train/PNEUMONIA/B59DD164-51D5-40DF-A926-6A42DD52EBE8.jpeg  \n",
            "  inflating: /content/xray_dataset_covid19/train/PNEUMONIA/C6EA0BE5-B01E-4113-B194-18D956675E25.jpeg  \n",
            "  inflating: /content/xray_dataset_covid19/train/PNEUMONIA/CD50BA96-6982-4C80-AE7B-5F67ACDBFA56.jpeg  \n",
            "  inflating: /content/xray_dataset_covid19/train/PNEUMONIA/E1724330-1866-4581-8CD8-CEC9B8AFEDDE.jpeg  \n",
            "  inflating: /content/xray_dataset_covid19/train/PNEUMONIA/E63574A7-4188-4C8D-8D17-9D67A18A1AFA.jpeg  \n",
            "  inflating: /content/xray_dataset_covid19/train/PNEUMONIA/F051E018-DAD1-4506-AD43-BE4CA29E960B.jpeg  \n",
            "  inflating: /content/xray_dataset_covid19/train/PNEUMONIA/F4341CE7-73C9-45C6-99C8-8567A5484B63.jpeg  \n",
            "  inflating: /content/xray_dataset_covid19/train/PNEUMONIA/F63AB6CE-1968-4154-A70F-913AF154F53D.jpeg  \n",
            "  inflating: /content/xray_dataset_covid19/train/PNEUMONIA/MERS-CoV-1-s2.0-S0378603X1500248X-gr4e.jpg  \n",
            "  inflating: /content/xray_dataset_covid19/train/PNEUMONIA/acute-respiratory-distress-syndrome-ards-1.jpg  \n",
            "  inflating: /content/xray_dataset_covid19/train/PNEUMONIA/all14238-fig-0001-m-b.jpg  \n",
            "  inflating: /content/xray_dataset_covid19/train/PNEUMONIA/all14238-fig-0001-m-c.jpg  \n",
            "  inflating: /content/xray_dataset_covid19/train/PNEUMONIA/all14238-fig-0002-m-e.jpg  \n",
            "  inflating: /content/xray_dataset_covid19/train/PNEUMONIA/ards-secondary-to-tiger-snake-bite.png  \n",
            "  inflating: /content/xray_dataset_covid19/train/PNEUMONIA/auntminnie-2020_01_31_20_24_2322_2020_01_31_x-ray_coronavirus_US.jpg  \n",
            "  inflating: /content/xray_dataset_covid19/train/PNEUMONIA/auntminnie-b-2020_01_28_23_51_6665_2020_01_28_Vietnam_coronavirus.jpeg  \n",
            "  inflating: /content/xray_dataset_covid19/train/PNEUMONIA/auntminnie-c-2020_01_28_23_51_6665_2020_01_28_Vietnam_coronavirus.jpeg  \n",
            "  inflating: /content/xray_dataset_covid19/train/PNEUMONIA/auntminnie-d-2020_01_28_23_51_6665_2020_01_28_Vietnam_coronavirus.jpeg  \n",
            "  inflating: /content/xray_dataset_covid19/train/PNEUMONIA/covid-19-pneumonia-12.jpg  \n",
            "  inflating: /content/xray_dataset_covid19/train/PNEUMONIA/covid-19-pneumonia-14-PA.png  \n",
            "  inflating: /content/xray_dataset_covid19/train/PNEUMONIA/covid-19-pneumonia-15-PA.jpg  \n",
            "  inflating: /content/xray_dataset_covid19/train/PNEUMONIA/covid-19-pneumonia-7-PA.jpg  \n",
            "  inflating: /content/xray_dataset_covid19/train/PNEUMONIA/jkms-35-e79-g001-l-a.jpg  \n",
            "  inflating: /content/xray_dataset_covid19/train/PNEUMONIA/jkms-35-e79-g001-l-b.jpg  \n",
            "  inflating: /content/xray_dataset_covid19/train/PNEUMONIA/jkms-35-e79-g001-l-c.jpg  \n",
            "  inflating: /content/xray_dataset_covid19/train/PNEUMONIA/kjr-21-e24-g001-l-a.jpg  \n",
            "  inflating: /content/xray_dataset_covid19/train/PNEUMONIA/kjr-21-e24-g002-l-a.jpg  \n",
            "  inflating: /content/xray_dataset_covid19/train/PNEUMONIA/kjr-21-e24-g003-l-a.jpg  \n",
            "  inflating: /content/xray_dataset_covid19/train/PNEUMONIA/kjr-21-e25-g001-l-a.jpg  \n",
            "  inflating: /content/xray_dataset_covid19/train/PNEUMONIA/lancet-case2a.jpg  \n",
            "  inflating: /content/xray_dataset_covid19/train/PNEUMONIA/nCoV-Snohomish-20382862_web1_M1-Lungs-EDH-200201-640x300@2x.jpg  \n",
            "  inflating: /content/xray_dataset_covid19/train/PNEUMONIA/nCoV-radiol.2020200269.fig1-day7.jpeg  \n",
            "  inflating: /content/xray_dataset_covid19/train/PNEUMONIA/nejmc2001573_f1a.jpeg  \n",
            "  inflating: /content/xray_dataset_covid19/train/PNEUMONIA/nejmc2001573_f1b.jpeg  \n",
            "  inflating: /content/xray_dataset_covid19/train/PNEUMONIA/nejmoa2001191_f1-PA.jpeg  \n",
            "  inflating: /content/xray_dataset_covid19/train/PNEUMONIA/nejmoa2001191_f3-PA.jpeg  \n",
            "  inflating: /content/xray_dataset_covid19/train/PNEUMONIA/nejmoa2001191_f4.jpeg  \n",
            "  inflating: /content/xray_dataset_covid19/train/PNEUMONIA/nejmoa2001191_f5-PA.jpeg  \n",
            "  inflating: /content/xray_dataset_covid19/train/PNEUMONIA/pneumocystis-pneumonia-2-PA.png  \n",
            "  inflating: /content/xray_dataset_covid19/train/PNEUMONIA/ryct.2020200028.fig1a.jpeg  \n"
          ],
          "name": "stdout"
        }
      ]
    },
    {
      "cell_type": "code",
      "metadata": {
        "id": "nOxSuJYH-f6e"
      },
      "source": [
        "import numpy as np\n",
        "import matplotlib.pyplot as plt\n",
        "\n",
        "import keras\n",
        "from keras.layers import Dense, Conv2D, MaxPool2D, Dropout, Flatten\n",
        "from keras.models import Sequential\n",
        "from keras.preprocessing import image\n"
      ],
      "execution_count": 6,
      "outputs": []
    },
    {
      "cell_type": "code",
      "metadata": {
        "colab": {
          "base_uri": "https://localhost:8080/"
        },
        "id": "V8ErK6G_CYWu",
        "outputId": "a713b33c-6632-4447-a172-5ff24909bcd7"
      },
      "source": [
        "# Image  Augmentation - chmage image characteritics\n",
        "train_datagen = image.ImageDataGenerator(\n",
        "    rescale = 1/255, # resclaing our pixels\n",
        "    horizontal_flip = True,\n",
        "    zoom_range = 0.2,\n",
        "    shear_range = 0.2\n",
        ")\n",
        "\n",
        "train_data = train_datagen.flow_from_directory(directory='/content/xray_dataset_covid19/train', target_size=(256, 256),\n",
        "                                               batch_size =16,\n",
        "                                               class_mode = 'binary')"
      ],
      "execution_count": 7,
      "outputs": [
        {
          "output_type": "stream",
          "text": [
            "Found 148 images belonging to 2 classes.\n"
          ],
          "name": "stdout"
        }
      ]
    },
    {
      "cell_type": "code",
      "metadata": {
        "colab": {
          "base_uri": "https://localhost:8080/"
        },
        "id": "ZVViYkkiDBIt",
        "outputId": "50719f2d-600d-4907-a912-6a0ddebd6a43"
      },
      "source": [
        "train_data.class_indices"
      ],
      "execution_count": 8,
      "outputs": [
        {
          "output_type": "execute_result",
          "data": {
            "text/plain": [
              "{'NORMAL': 0, 'PNEUMONIA': 1}"
            ]
          },
          "metadata": {
            "tags": []
          },
          "execution_count": 8
        }
      ]
    },
    {
      "cell_type": "code",
      "metadata": {
        "colab": {
          "base_uri": "https://localhost:8080/"
        },
        "id": "XpXAcljvF1Zd",
        "outputId": "65b4d5b6-c1af-4862-95f8-f05670789175"
      },
      "source": [
        "# Image  Augmentation - chmage image characteritics (test data)\n",
        "test_datagen = image.ImageDataGenerator(\n",
        "    rescale = 1/255 # resclaing our pixels\n",
        "    \n",
        ")\n",
        "\n",
        "test_data = train_datagen.flow_from_directory(directory='/content/xray_dataset_covid19/test', target_size=(256, 256),\n",
        "                                               batch_size =16,\n",
        "                                               class_mode = 'binary')"
      ],
      "execution_count": 9,
      "outputs": [
        {
          "output_type": "stream",
          "text": [
            "Found 40 images belonging to 2 classes.\n"
          ],
          "name": "stdout"
        }
      ]
    },
    {
      "cell_type": "code",
      "metadata": {
        "id": "8u9v2VrQGLOF"
      },
      "source": [
        "model = Sequential()\n",
        "model.add(Conv2D(filters=32, kernel_size=(3,3), activation='relu', input_shape=(256, 256, 3)))\n",
        "\n",
        "model.add(Conv2D(filters=64, kernel_size=(3,3), activation='relu'))\n",
        "model.add(MaxPool2D())\n",
        "model.add(Dropout(rate=0.25))\n",
        "\n",
        "model.add(Conv2D(filters=64, kernel_size=(3,3), activation='relu'))\n",
        "model.add(MaxPool2D())\n",
        "model.add(Dropout(rate=0.25))\n",
        "\n",
        "model.add(Conv2D(filters=128, kernel_size=(3,3), activation='relu'))\n",
        "model.add(MaxPool2D())\n",
        "model.add(Dropout(rate=0.25))\n",
        "\n",
        "\n",
        "# Flatten\n",
        "\n",
        "model.add(Flatten())\n",
        "model.add(Dense(units=64, activation='relu'))\n",
        "model.add(Dropout(rate=0.50))\n",
        "model.add(Dense(units=1, activation='sigmoid'))\n",
        "\n",
        "model.compile(loss= keras.losses.binary_crossentropy, optimizer='adam', \n",
        "              metrics=['accuracy'])"
      ],
      "execution_count": 10,
      "outputs": []
    },
    {
      "cell_type": "code",
      "metadata": {
        "colab": {
          "base_uri": "https://localhost:8080/"
        },
        "id": "oMku53prIQFd",
        "outputId": "cb2e90d2-24be-4b04-c61f-2ccd3597ff64"
      },
      "source": [
        "model.summary()"
      ],
      "execution_count": 11,
      "outputs": [
        {
          "output_type": "stream",
          "text": [
            "Model: \"sequential\"\n",
            "_________________________________________________________________\n",
            "Layer (type)                 Output Shape              Param #   \n",
            "=================================================================\n",
            "conv2d (Conv2D)              (None, 254, 254, 32)      896       \n",
            "_________________________________________________________________\n",
            "conv2d_1 (Conv2D)            (None, 252, 252, 64)      18496     \n",
            "_________________________________________________________________\n",
            "max_pooling2d (MaxPooling2D) (None, 126, 126, 64)      0         \n",
            "_________________________________________________________________\n",
            "dropout (Dropout)            (None, 126, 126, 64)      0         \n",
            "_________________________________________________________________\n",
            "conv2d_2 (Conv2D)            (None, 124, 124, 64)      36928     \n",
            "_________________________________________________________________\n",
            "max_pooling2d_1 (MaxPooling2 (None, 62, 62, 64)        0         \n",
            "_________________________________________________________________\n",
            "dropout_1 (Dropout)          (None, 62, 62, 64)        0         \n",
            "_________________________________________________________________\n",
            "conv2d_3 (Conv2D)            (None, 60, 60, 128)       73856     \n",
            "_________________________________________________________________\n",
            "max_pooling2d_2 (MaxPooling2 (None, 30, 30, 128)       0         \n",
            "_________________________________________________________________\n",
            "dropout_2 (Dropout)          (None, 30, 30, 128)       0         \n",
            "_________________________________________________________________\n",
            "flatten (Flatten)            (None, 115200)            0         \n",
            "_________________________________________________________________\n",
            "dense (Dense)                (None, 64)                7372864   \n",
            "_________________________________________________________________\n",
            "dropout_3 (Dropout)          (None, 64)                0         \n",
            "_________________________________________________________________\n",
            "dense_1 (Dense)              (None, 1)                 65        \n",
            "=================================================================\n",
            "Total params: 7,503,105\n",
            "Trainable params: 7,503,105\n",
            "Non-trainable params: 0\n",
            "_________________________________________________________________\n"
          ],
          "name": "stdout"
        }
      ]
    },
    {
      "cell_type": "code",
      "metadata": {
        "colab": {
          "base_uri": "https://localhost:8080/"
        },
        "id": "Hh3ATn2GIUHD",
        "outputId": "e0801d8f-becb-4010-dfbd-c18f8cb91632"
      },
      "source": [
        "model.fit_generator(train_data, steps_per_epoch=8, epochs=10, \n",
        "                    validation_steps=2, validation_data=test_data)"
      ],
      "execution_count": 12,
      "outputs": [
        {
          "output_type": "stream",
          "text": [
            "/usr/local/lib/python3.7/dist-packages/tensorflow/python/keras/engine/training.py:1844: UserWarning: `Model.fit_generator` is deprecated and will be removed in a future version. Please use `Model.fit`, which supports generators.\n",
            "  warnings.warn('`Model.fit_generator` is deprecated and '\n"
          ],
          "name": "stderr"
        },
        {
          "output_type": "stream",
          "text": [
            "Epoch 1/10\n",
            "8/8 [==============================] - 40s 1s/step - loss: 2.2485 - accuracy: 0.5891 - val_loss: 0.6931 - val_accuracy: 0.4688\n",
            "Epoch 2/10\n",
            "8/8 [==============================] - 8s 1s/step - loss: 0.7217 - accuracy: 0.4546 - val_loss: 0.6922 - val_accuracy: 0.5312\n",
            "Epoch 3/10\n",
            "8/8 [==============================] - 8s 1s/step - loss: 0.6899 - accuracy: 0.5290 - val_loss: 0.6919 - val_accuracy: 0.4375\n",
            "Epoch 4/10\n",
            "8/8 [==============================] - 8s 1s/step - loss: 0.6773 - accuracy: 0.5863 - val_loss: 0.6672 - val_accuracy: 0.9375\n",
            "Epoch 5/10\n",
            "8/8 [==============================] - 8s 1s/step - loss: 0.6461 - accuracy: 0.5751 - val_loss: 0.5950 - val_accuracy: 0.8750\n",
            "Epoch 6/10\n",
            "8/8 [==============================] - 8s 988ms/step - loss: 0.5705 - accuracy: 0.7299 - val_loss: 0.5145 - val_accuracy: 0.8750\n",
            "Epoch 7/10\n",
            "8/8 [==============================] - 9s 1s/step - loss: 0.4764 - accuracy: 0.8351 - val_loss: 0.5248 - val_accuracy: 0.9062\n",
            "Epoch 8/10\n",
            "8/8 [==============================] - 7s 934ms/step - loss: 0.5015 - accuracy: 0.7764 - val_loss: 0.2779 - val_accuracy: 0.9062\n",
            "Epoch 9/10\n",
            "8/8 [==============================] - 8s 1s/step - loss: 0.3950 - accuracy: 0.7892 - val_loss: 0.6462 - val_accuracy: 0.8750\n",
            "Epoch 10/10\n",
            "8/8 [==============================] - 8s 1s/step - loss: 0.4928 - accuracy: 0.8554 - val_loss: 0.2953 - val_accuracy: 0.9375\n"
          ],
          "name": "stdout"
        },
        {
          "output_type": "execute_result",
          "data": {
            "text/plain": [
              "<tensorflow.python.keras.callbacks.History at 0x7fe927f37290>"
            ]
          },
          "metadata": {
            "tags": []
          },
          "execution_count": 12
        }
      ]
    },
    {
      "cell_type": "code",
      "metadata": {
        "id": "UQXUohe2IxSr",
        "colab": {
          "base_uri": "https://localhost:8080/"
        },
        "outputId": "81479e85-f155-430f-df07-5812002d2fb7"
      },
      "source": [
        "path = \"/content/covid_image.jfif\"\n",
        "img = image.load_img(path, target_size=(256, 256))\n",
        "\n",
        "img = image.img_to_array(img)/255\n",
        "img = np.array([img])\n",
        "img.shape # 4D"
      ],
      "execution_count": 13,
      "outputs": [
        {
          "output_type": "execute_result",
          "data": {
            "text/plain": [
              "(1, 256, 256, 3)"
            ]
          },
          "metadata": {
            "tags": []
          },
          "execution_count": 13
        }
      ]
    },
    {
      "cell_type": "code",
      "metadata": {
        "id": "b42ko7ybJsXX",
        "colab": {
          "base_uri": "https://localhost:8080/"
        },
        "outputId": "73554f01-95d9-46b8-970e-d73641ed0442"
      },
      "source": [
        "model.predict_classes(img)"
      ],
      "execution_count": 14,
      "outputs": [
        {
          "output_type": "stream",
          "text": [
            "/usr/local/lib/python3.7/dist-packages/tensorflow/python/keras/engine/sequential.py:450: UserWarning: `model.predict_classes()` is deprecated and will be removed after 2021-01-01. Please use instead:* `np.argmax(model.predict(x), axis=-1)`,   if your model does multi-class classification   (e.g. if it uses a `softmax` last-layer activation).* `(model.predict(x) > 0.5).astype(\"int32\")`,   if your model does binary classification   (e.g. if it uses a `sigmoid` last-layer activation).\n",
            "  warnings.warn('`model.predict_classes()` is deprecated and '\n"
          ],
          "name": "stderr"
        },
        {
          "output_type": "execute_result",
          "data": {
            "text/plain": [
              "array([[1]], dtype=int32)"
            ]
          },
          "metadata": {
            "tags": []
          },
          "execution_count": 14
        }
      ]
    }
  ]
}